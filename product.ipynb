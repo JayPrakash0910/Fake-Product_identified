{
 "cells": [
  {
   "cell_type": "markdown",
   "metadata": {},
   "source": [
    "# BLOCK CHAIN TECHNOLOGY TO DETECTED FAKE PROFUCTS\n",
    "# 1.QR CODE EMAIL SCAMS\n",
    "# 2.QR CODE PAYMENT SCAMS\n",
    "# 3.QR CODE PACKAGE SCAMS--. EMAILS, ONLINE ORDER PRODUCT DETAILS OF PAYMENT\n",
    "# 4.CRYPTOCURRENCYSCAMS ->QR code to steal cryptocurrency from victims, in offer to double your crypto .\n",
    "# 5.DONATION SCAMS-in which impresonate a charity or creat charity tos teal your moneyor crdit card infromation.\n",
    "\n"
   ]
  },
  {
   "cell_type": "code",
   "execution_count": null,
   "metadata": {},
   "outputs": [],
   "source": []
  },
  {
   "cell_type": "code",
   "execution_count": 15,
   "metadata": {},
   "outputs": [],
   "source": [
    "import hashlib \n",
    "import qrcode \n",
    "brand =\"Samsung \\n\"\n",
    "name=\"Galaxy S21\\n\"\n",
    "product_id=\"12345\\n\"\n",
    "date_of_manufacture =\"2023.01.15\\n\"\n",
    "batch=\"A1234\\n\"\n",
    "price=\"20000\\n\"\n",
    "product_type=\"Smartphone\\n\"\n",
    "size=\"6.2 inch\\n\"\n",
    "\n"
   ]
  },
  {
   "cell_type": "code",
   "execution_count": 16,
   "metadata": {},
   "outputs": [],
   "source": [
    "# combine all details into single string. tupled format create \n",
    "product_details=f\"{brand}{name}{product_id}{date_of_manufacture}{batch}{price}{size}{product_type}\"\n",
    "\n",
    "# hash_code=hashlib.sha256(product_details.encode()).hexdigest()"
   ]
  },
  {
   "cell_type": "code",
   "execution_count": 18,
   "metadata": {},
   "outputs": [],
   "source": [
    "import qrcode\n",
    "\n",
    "qr=qrcode.QRCode(\n",
    "    version=1,\n",
    "    error_correction=qrcode.constants.ERROR_CORRECT_L,\n",
    "    box_size=10,\n",
    "    border=4,\n",
    ")\n",
    "# qr.add_data(hash_code)\n",
    "qr.add_data(product_details)\n",
    "qr.make(fit=True)\n"
   ]
  },
  {
   "cell_type": "code",
   "execution_count": 19,
   "metadata": {},
   "outputs": [
    {
     "name": "stdout",
     "output_type": "stream",
     "text": [
      "which company your want of porduct : Samsung \n",
      "Galaxy S21\n",
      "12345\n",
      "2023.01.15\n",
      "A1234\n",
      "20000\n",
      "6.2 inch\n",
      "Smartphone\n",
      "\n",
      "QR Code Saved as 'Mobile_Product_qr.png' \n"
     ]
    }
   ],
   "source": [
    "#create a QR code image and save it as a PNG file.\n",
    "Pic=qr.make_image(fill_color=\"black\", back_color=\"white\")\n",
    "Pic.save(\"Mobile_Product_qr.png\")\n",
    "# print(f\"Hash Code : {hash_code}\")\n",
    "print(f\"which company your want of porduct : {product_details}\")\n",
    "print(\"QR Code Saved as 'Mobile_Product_qr.png' \")\n"
   ]
  },
  {
   "cell_type": "code",
   "execution_count": 20,
   "metadata": {},
   "outputs": [
    {
     "name": "stdout",
     "output_type": "stream",
     "text": [
      "Decoded QR code Date : \n",
      "Samsung \n",
      "Galaxy S21\n",
      "12345\n",
      "2023.01.15\n",
      "A1234\n",
      "20000\n",
      "6.2 inch\n",
      "Smartphone\n",
      "\n"
     ]
    }
   ],
   "source": [
    "#Load and Decode the QR code using OpenCv\n",
    "# import cv2\n",
    "import cv2\n",
    "\n",
    "# import time\n",
    "detected=cv2.QRCodeDetector()\n",
    "Pic=cv2.imread(\"Mobile_Product_qr.png\")\n",
    "decoded_info, points,straight_qrcode=detected.detectAndDecode(Pic)\n",
    "\n",
    "if decoded_info:\n",
    "    print(\"Decoded QR code Date : \")\n",
    "    print(decoded_info)\n",
    "else:\n",
    "    print(\"QR code not detected or could not be decoded.\")"
   ]
  },
  {
   "cell_type": "code",
   "execution_count": 23,
   "metadata": {},
   "outputs": [
    {
     "name": "stdout",
     "output_type": "stream",
     "text": [
      "THIS IS FAKE  PRODUCT \n",
      "ALERT.!!!\n"
     ]
    }
   ],
   "source": [
    "#initialize the webCamera\n",
    "Capture=cv2.VideoCapture(0) # 0 for the defoult camera\n",
    "while True:\n",
    "    #Capture a frame from the WebCamera\n",
    "    ret, frame =Capture.read()\n",
    "\n",
    "#    Detect and Decode the QR code in the frame\n",
    "    detector=cv2.QRCodeDetector()\n",
    "    decoded_info, points, straight_qrcode=detector.detectAndDecode(frame)\n",
    "   #if a QR code is detected  print the detected qr code information\n",
    "    if decoded_info==product_details:\n",
    "        print(\"Sucessfully Decoded QR code Data ...!\")\n",
    "        print(decoded_info)\n",
    "        print(\"This is a Original productS...!\")\n",
    "        break\n",
    "        # continue\n",
    "    else:\n",
    "        print(\"THIS IS FAKE  PRODUCT \\nALERT.!!!\")\n",
    "        break\n",
    "#    #Display the loop frame with detected QR code (optional)\n",
    "    # time.sleep(10)# 10 second to deteced \n",
    "    cv2.imshow(\"QR Code Scanner \", frame)\n",
    "    # time.waitket(5) # detected \n",
    "\n",
    "#    #Break the loop if the 'q' key is pressed\n",
    "    if cv2.waitKey(1) & 0xFF ==ord('q'):\n",
    "        break\n",
    "# #Release the webcamera and close OpenCv windows\n",
    "Capture.release()\n",
    "cv2.destroyAllWindows()"
   ]
  }
 ],
 "metadata": {
  "kernelspec": {
   "display_name": "base",
   "language": "python",
   "name": "python3"
  },
  "language_info": {
   "codemirror_mode": {
    "name": "ipython",
    "version": 3
   },
   "file_extension": ".py",
   "mimetype": "text/x-python",
   "name": "python",
   "nbconvert_exporter": "python",
   "pygments_lexer": "ipython3",
   "version": "3.11.5"
  }
 },
 "nbformat": 4,
 "nbformat_minor": 2
}
